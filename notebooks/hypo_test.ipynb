{
 "cells": [
  {
   "cell_type": "code",
   "execution_count": 2,
   "metadata": {},
   "outputs": [],
   "source": [
    "## Is fuel flow at lever position 1 stastically different than fuel flow at lever position 8?\n"
   ]
  },
  {
   "cell_type": "code",
   "execution_count": 3,
   "metadata": {},
   "outputs": [],
   "source": [
    "import pandas as pd\n",
    "from scipy.stats import ttest_ind\n",
    "import numpy as np\n",
    "\n",
    "\n",
    "data = pd.read_csv('../data/data.csv')\n",
    "\n",
    "num_bins = 9\n",
    "bin_edges = np.linspace(data['LeverPosition'].min(), data['LeverPosition'].max(), num_bins + 1)\n",
    "data['LeverPosition_bin'] = pd.cut(data['LeverPosition'], bins=bin_edges, labels=False, include_lowest=True)\n",
    "\n",
    "\n"
   ]
  },
  {
   "cell_type": "code",
   "execution_count": 5,
   "metadata": {},
   "outputs": [
    {
     "name": "stdout",
     "output_type": "stream",
     "text": [
      "T-statistic: -1011.1481607651883\n",
      "P-value: 0.0\n",
      "Reject the null hypothesis: Fuel flow is statistically different at lever positions 1 and 8.\n"
     ]
    }
   ],
   "source": [
    "# Filter the data for lever positions 1 and 8\n",
    "lever_position_1 = data[data['LeverPosition_bin'] == 1]['FuelFlow(mf)[kg/s]']\n",
    "lever_position_8 = data[data['LeverPosition_bin'] == 8]['FuelFlow(mf)[kg/s]']\n",
    "\n",
    "# Perform the t-test\n",
    "t_stat, p_value = ttest_ind(lever_position_1, lever_position_8)\n",
    "\n",
    "# Print the results\n",
    "print(f\"T-statistic: {t_stat}\")\n",
    "print(f\"P-value: {p_value}\")\n",
    "\n",
    "# Determine if we reject the null hypothesis\n",
    "alpha = 0.05\n",
    "if p_value < alpha:\n",
    "    print(\"Reject the null hypothesis: Fuel flow is statistically different at lever positions 1 and 8.\")\n",
    "else:\n",
    "    print(\"Fail to reject the null hypothesis: Fuel flow is not statistically different at lever positions 1 and 8.\")"
   ]
  }
 ],
 "metadata": {
  "kernelspec": {
   "display_name": "base",
   "language": "python",
   "name": "python3"
  },
  "language_info": {
   "codemirror_mode": {
    "name": "ipython",
    "version": 3
   },
   "file_extension": ".py",
   "mimetype": "text/x-python",
   "name": "python",
   "nbconvert_exporter": "python",
   "pygments_lexer": "ipython3",
   "version": "3.11.7"
  }
 },
 "nbformat": 4,
 "nbformat_minor": 2
}
