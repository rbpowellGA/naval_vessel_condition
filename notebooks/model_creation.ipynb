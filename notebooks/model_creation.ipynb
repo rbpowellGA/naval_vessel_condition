{
 "cells": [
  {
   "cell_type": "code",
   "execution_count": 3,
   "metadata": {},
   "outputs": [
    {
     "data": {
      "text/plain": [
       "['ridge_model.joblib']"
      ]
     },
     "execution_count": 3,
     "metadata": {},
     "output_type": "execute_result"
    }
   ],
   "source": [
    "import pandas as pd\n",
    "from sklearn.linear_model import Ridge\n",
    "import joblib\n",
    "import numpy as np\n",
    "\n",
    "# Load data\n",
    "data = pd.read_csv('../data/data.csv')  # Ensure correct path\n",
    "\n",
    "# Bin the LeverPosition feature\n",
    "num_bins = 9\n",
    "bin_edges = np.linspace(data['LeverPosition'].min(), data['LeverPosition'].max(), num_bins + 1)\n",
    "data['LeverPosition_bin'] = pd.cut(data['LeverPosition'], bins=bin_edges, labels=False, include_lowest=True)\n",
    "\n",
    "# Calculate avg_prop_torque\n",
    "data[\"avg_prop_torque[kN]\"] = (data['StarboardPropellerTorque(Ts)[kN]'] + data['PortPropellerTorque(Tp)[kN]']) / 2\n",
    "\n",
    "# Define features and target\n",
    "features = ['LeverPosition_bin', 'GasTurbineShaftTorque[kNm]', 'GT_rateofrevolutions(GTn)[rpm]',\n",
    "             'GasGeneratorRateofRevolutions(GGn)[rpm]', 'avg_prop_torque[kN]', \n",
    "             'HightPressure(HP)TurbineExitTemperature(T48)[C]', 'GTCompressorOutletAirTemperature(T2)[C]',\n",
    "             'HPTurbineExitPressure(P48)[bar]', 'GTCompressorOutletAirPressure(P2)[bar]',\n",
    "             'GTExhaustGasPressure(Pexh)[bar]', 'FuelFlow(mf)[kg/s]']\n",
    "target = 'GTTurbineDecayStateCoefficient'\n",
    "\n",
    "X = data[features]\n",
    "y = data[target]\n",
    "\n",
    "# Train the model\n",
    "model = Ridge(alpha=100)\n",
    "model.fit(X, y)\n",
    "\n",
    "# Save the model using joblib\n",
    "joblib.dump(model, 'ridge_model.joblib')"
   ]
  }
 ],
 "metadata": {
  "kernelspec": {
   "display_name": "base",
   "language": "python",
   "name": "python3"
  },
  "language_info": {
   "codemirror_mode": {
    "name": "ipython",
    "version": 3
   },
   "file_extension": ".py",
   "mimetype": "text/x-python",
   "name": "python",
   "nbconvert_exporter": "python",
   "pygments_lexer": "ipython3",
   "version": "3.11.7"
  }
 },
 "nbformat": 4,
 "nbformat_minor": 2
}
